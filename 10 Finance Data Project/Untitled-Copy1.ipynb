{
 "cells": [
  {
   "cell_type": "markdown",
   "id": "7e180ecd-7067-421c-93be-1230a2bac0e4",
   "metadata": {},
   "source": [
    "# Finance Data Project \n",
    "\n",
    "In this data project we will focus on exploratory data analysis i.e. **EDA of stock prices**. Keep in mind, this project is just meant to practice visualization and pandas skills, it is not meant to be a robust financial analysis or be taken as financial advice.\n",
    "\n",
    "We'll focus on bank stocks and see how they progressed throughout the [financial crisis](https://en.wikipedia.org/wiki/Financial_crisis_of_2007%E2%80%9308) all the way to early 2024."
   ]
  },
  {
   "cell_type": "markdown",
   "id": "666d8c83-a899-4ced-9cf7-c55654a6859b",
   "metadata": {},
   "source": [
    "## Get the Data\n",
    "- read data from Yahoo finance using pandas!\n",
    "\n",
    "- pip command to install yahoo finance:\n",
    "    - pip install yfinance"
   ]
  },
  {
   "cell_type": "code",
   "execution_count": 7,
   "id": "7a63dfe3-2fa5-44e9-87ad-58d19146de59",
   "metadata": {},
   "outputs": [],
   "source": [
    "import yfinance as yf\n",
    "import pandas as pd\n",
    "import numpy as np\n",
    "import time\n",
    "import datetime\n",
    "%matplotlib inline"
   ]
  },
  {
   "cell_type": "markdown",
   "id": "f2a895b7-fe23-4b1a-beab-5d351ba02f2f",
   "metadata": {},
   "source": [
    "## Data\n",
    "\n",
    "We need to get data using pandas datareader. We will get stock information for the following banks:\n",
    "*  Bank of America\n",
    "* CitiGroup\n",
    "* Goldman Sachs\n",
    "* JPMorgan Chase\n",
    "* Morgan Stanley\n",
    "* Wells Fargo\n",
    "\n",
    "**Get the stock data from Jan 1st 2006 to Jan 1st 2024 for each of these banks. Set each bank to be a separate dataframe, with the variable name for that bank being its ticker symbol. This will involve a few steps:**\n",
    "1. Use datetime to set start and end datetime objects.\n",
    "2. Figure out the ticker symbol for each bank.\n",
    "2. Grab info on the stock.\n",
    "\n",
    "**Use yahoo finance as a source, for example:**\n",
    "    \n",
    "    # Bank of America\n",
    "    BAC = yf.download(ticker, start, end)"
   ]
  },
  {
   "cell_type": "markdown",
   "id": "4a4c9d99-ab06-41cb-a13d-32ba839443a9",
   "metadata": {},
   "source": [
    "### Ticker Symbol:\n",
    "A \"ticker\" or \"ticker symbol\" is a unique series of letters assigned to a security or stock for trading purposes. Ticker symbols are used to identify and trade securities on stock exchanges. For example, \"GE\" is the ticker symbol for General Electric."
   ]
  },
  {
   "cell_type": "code",
   "execution_count": 39,
   "id": "1b2d71e4-d3c8-4371-9b77-c73fa13abc23",
   "metadata": {},
   "outputs": [
    {
     "name": "stdout",
     "output_type": "stream",
     "text": [
      "2006-01-01 00:00:00\n",
      "2024-01-01 00:00:00\n"
     ]
    }
   ],
   "source": [
    "# start = 01 Jan 2006\n",
    "start = datetime.datetime(2006, 1, 1)\n",
    "# end = 01 Jan 2024\n",
    "end = datetime.datetime(2024,1,1)\n",
    "\n",
    "print(start)\n",
    "print(end)"
   ]
  },
  {
   "cell_type": "code",
   "execution_count": 24,
   "id": "99aac158-e1e7-4afa-9398-fe582aa802d3",
   "metadata": {},
   "outputs": [
    {
     "name": "stderr",
     "output_type": "stream",
     "text": [
      "[*********************100%%**********************]  1 of 1 completed\n"
     ]
    },
    {
     "data": {
      "text/html": [
       "<div>\n",
       "<style scoped>\n",
       "    .dataframe tbody tr th:only-of-type {\n",
       "        vertical-align: middle;\n",
       "    }\n",
       "\n",
       "    .dataframe tbody tr th {\n",
       "        vertical-align: top;\n",
       "    }\n",
       "\n",
       "    .dataframe thead th {\n",
       "        text-align: right;\n",
       "    }\n",
       "</style>\n",
       "<table border=\"1\" class=\"dataframe\">\n",
       "  <thead>\n",
       "    <tr style=\"text-align: right;\">\n",
       "      <th></th>\n",
       "      <th>Open</th>\n",
       "      <th>High</th>\n",
       "      <th>Low</th>\n",
       "      <th>Close</th>\n",
       "      <th>Adj Close</th>\n",
       "      <th>Volume</th>\n",
       "    </tr>\n",
       "    <tr>\n",
       "      <th>Date</th>\n",
       "      <th></th>\n",
       "      <th></th>\n",
       "      <th></th>\n",
       "      <th></th>\n",
       "      <th></th>\n",
       "      <th></th>\n",
       "    </tr>\n",
       "  </thead>\n",
       "  <tbody>\n",
       "    <tr>\n",
       "      <th>2006-01-03</th>\n",
       "      <td>168.214554</td>\n",
       "      <td>169.652283</td>\n",
       "      <td>166.776825</td>\n",
       "      <td>169.508514</td>\n",
       "      <td>93.532646</td>\n",
       "      <td>6932005</td>\n",
       "    </tr>\n",
       "    <tr>\n",
       "      <th>2006-01-04</th>\n",
       "      <td>169.412659</td>\n",
       "      <td>169.652283</td>\n",
       "      <td>168.214554</td>\n",
       "      <td>169.268890</td>\n",
       "      <td>93.400421</td>\n",
       "      <td>5011458</td>\n",
       "    </tr>\n",
       "    <tr>\n",
       "      <th>2006-01-05</th>\n",
       "      <td>169.029266</td>\n",
       "      <td>169.412659</td>\n",
       "      <td>168.214554</td>\n",
       "      <td>168.837570</td>\n",
       "      <td>93.162437</td>\n",
       "      <td>3934887</td>\n",
       "    </tr>\n",
       "    <tr>\n",
       "      <th>2006-01-06</th>\n",
       "      <td>169.556442</td>\n",
       "      <td>170.275299</td>\n",
       "      <td>168.645874</td>\n",
       "      <td>169.987747</td>\n",
       "      <td>93.797096</td>\n",
       "      <td>4608094</td>\n",
       "    </tr>\n",
       "    <tr>\n",
       "      <th>2006-01-09</th>\n",
       "      <td>169.652283</td>\n",
       "      <td>169.796051</td>\n",
       "      <td>168.885498</td>\n",
       "      <td>169.556442</td>\n",
       "      <td>93.559097</td>\n",
       "      <td>4322644</td>\n",
       "    </tr>\n",
       "    <tr>\n",
       "      <th>...</th>\n",
       "      <td>...</td>\n",
       "      <td>...</td>\n",
       "      <td>...</td>\n",
       "      <td>...</td>\n",
       "      <td>...</td>\n",
       "      <td>...</td>\n",
       "    </tr>\n",
       "    <tr>\n",
       "      <th>2023-12-22</th>\n",
       "      <td>101.667999</td>\n",
       "      <td>102.178772</td>\n",
       "      <td>100.702316</td>\n",
       "      <td>101.109337</td>\n",
       "      <td>100.850426</td>\n",
       "      <td>4030650</td>\n",
       "    </tr>\n",
       "    <tr>\n",
       "      <th>2023-12-26</th>\n",
       "      <td>101.197128</td>\n",
       "      <td>101.923386</td>\n",
       "      <td>101.069435</td>\n",
       "      <td>101.731842</td>\n",
       "      <td>101.471336</td>\n",
       "      <td>2480063</td>\n",
       "    </tr>\n",
       "    <tr>\n",
       "      <th>2023-12-27</th>\n",
       "      <td>101.276932</td>\n",
       "      <td>102.482040</td>\n",
       "      <td>101.237030</td>\n",
       "      <td>102.314445</td>\n",
       "      <td>102.132759</td>\n",
       "      <td>3314310</td>\n",
       "    </tr>\n",
       "    <tr>\n",
       "      <th>2023-12-28</th>\n",
       "      <td>102.154831</td>\n",
       "      <td>103.112534</td>\n",
       "      <td>102.003189</td>\n",
       "      <td>102.410217</td>\n",
       "      <td>102.228363</td>\n",
       "      <td>3965494</td>\n",
       "    </tr>\n",
       "    <tr>\n",
       "      <th>2023-12-29</th>\n",
       "      <td>102.346367</td>\n",
       "      <td>102.537910</td>\n",
       "      <td>101.324821</td>\n",
       "      <td>101.859535</td>\n",
       "      <td>101.678658</td>\n",
       "      <td>4441133</td>\n",
       "    </tr>\n",
       "  </tbody>\n",
       "</table>\n",
       "<p>4529 rows × 6 columns</p>\n",
       "</div>"
      ],
      "text/plain": [
       "                  Open        High         Low       Close   Adj Close  \\\n",
       "Date                                                                     \n",
       "2006-01-03  168.214554  169.652283  166.776825  169.508514   93.532646   \n",
       "2006-01-04  169.412659  169.652283  168.214554  169.268890   93.400421   \n",
       "2006-01-05  169.029266  169.412659  168.214554  168.837570   93.162437   \n",
       "2006-01-06  169.556442  170.275299  168.645874  169.987747   93.797096   \n",
       "2006-01-09  169.652283  169.796051  168.885498  169.556442   93.559097   \n",
       "...                ...         ...         ...         ...         ...   \n",
       "2023-12-22  101.667999  102.178772  100.702316  101.109337  100.850426   \n",
       "2023-12-26  101.197128  101.923386  101.069435  101.731842  101.471336   \n",
       "2023-12-27  101.276932  102.482040  101.237030  102.314445  102.132759   \n",
       "2023-12-28  102.154831  103.112534  102.003189  102.410217  102.228363   \n",
       "2023-12-29  102.346367  102.537910  101.324821  101.859535  101.678658   \n",
       "\n",
       "             Volume  \n",
       "Date                 \n",
       "2006-01-03  6932005  \n",
       "2006-01-04  5011458  \n",
       "2006-01-05  3934887  \n",
       "2006-01-06  4608094  \n",
       "2006-01-09  4322644  \n",
       "...             ...  \n",
       "2023-12-22  4030650  \n",
       "2023-12-26  2480063  \n",
       "2023-12-27  3314310  \n",
       "2023-12-28  3965494  \n",
       "2023-12-29  4441133  \n",
       "\n",
       "[4529 rows x 6 columns]"
      ]
     },
     "execution_count": 24,
     "metadata": {},
     "output_type": "execute_result"
    }
   ],
   "source": [
    "# Define the ticker symbol for General Electric\n",
    "ticker = 'GE'\n",
    "\n",
    "# Get historical stock data from Yahoo Finance for the specified date range\n",
    "GE = yf.download(ticker, start=start, end=end)\n",
    "\n",
    "# Display the dataframe\n",
    "GE"
   ]
  },
  {
   "cell_type": "code",
   "execution_count": 21,
   "id": "64376e25-6381-4c03-b450-05ea66b72e75",
   "metadata": {},
   "outputs": [
    {
     "name": "stdout",
     "output_type": "stream",
     "text": [
      "<class 'pandas.core.frame.DataFrame'>\n",
      "DatetimeIndex: 4529 entries, 2006-01-03 to 2023-12-29\n",
      "Data columns (total 6 columns):\n",
      " #   Column     Non-Null Count  Dtype  \n",
      "---  ------     --------------  -----  \n",
      " 0   Open       4529 non-null   float64\n",
      " 1   High       4529 non-null   float64\n",
      " 2   Low        4529 non-null   float64\n",
      " 3   Close      4529 non-null   float64\n",
      " 4   Adj Close  4529 non-null   float64\n",
      " 5   Volume     4529 non-null   int64  \n",
      "dtypes: float64(5), int64(1)\n",
      "memory usage: 247.7 KB\n"
     ]
    }
   ],
   "source": [
    "GE.info()"
   ]
  },
  {
   "cell_type": "code",
   "execution_count": 28,
   "id": "74a27ee0-d3cc-44f6-a252-9cd9b391be63",
   "metadata": {},
   "outputs": [
    {
     "name": "stderr",
     "output_type": "stream",
     "text": [
      "[*********************100%%**********************]  1 of 1 completed\n",
      "[*********************100%%**********************]  1 of 1 completed\n",
      "[*********************100%%**********************]  1 of 1 completed\n",
      "[*********************100%%**********************]  1 of 1 completed\n",
      "[*********************100%%**********************]  1 of 1 completed\n",
      "[*********************100%%**********************]  1 of 1 completed"
     ]
    },
    {
     "name": "stdout",
     "output_type": "stream",
     "text": [
      "Execution Time: 0.36725783348083496 seconds\n"
     ]
    },
    {
     "name": "stderr",
     "output_type": "stream",
     "text": [
      "\n"
     ]
    }
   ],
   "source": [
    "start_time = time.time()\n",
    "\n",
    "# Bank of America\n",
    "BAC = yf.download(tickers='BAC', start=start, end=end)\n",
    "# CitiGroup\n",
    "C = yf.download(tickers='C', start=start, end=end)\n",
    "# Goldman Sachs\n",
    "GS = yf.download(tickers='GS', start=start, end=end)\n",
    "# JPMorgan Chase\n",
    "JPM = yf.download(tickers='JPM', start=start, end=end)\n",
    "# Morgan Stanley\n",
    "MS = yf.download(tickers='MS', start=start, end=end)\n",
    "# Wells Fargo\n",
    "WFC = yf.download(tickers='WFC', start=start, end=end)\n",
    "\n",
    "end_time = time.time()\n",
    "execution_time = end_time - start_time\n",
    "print(\"Execution Time:\", execution_time, \"seconds\")"
   ]
  },
  {
   "cell_type": "code",
   "execution_count": 40,
   "id": "4eec2cac-a1c6-4bd3-930d-5e3f2d37ebe8",
   "metadata": {},
   "outputs": [
    {
     "name": "stderr",
     "output_type": "stream",
     "text": [
      "[*********************100%%**********************]  1 of 1 completed\n",
      "[*********************100%%**********************]  1 of 1 completed\n",
      "[*********************100%%**********************]  1 of 1 completed\n",
      "[*********************100%%**********************]  1 of 1 completed\n",
      "[*********************100%%**********************]  1 of 1 completed"
     ]
    },
    {
     "name": "stdout",
     "output_type": "stream",
     "text": [
      "Execution Time: 3.782825469970703 seconds\n"
     ]
    },
    {
     "name": "stderr",
     "output_type": "stream",
     "text": [
      "\n"
     ]
    }
   ],
   "source": [
    "start_time = time.time()\n",
    "\n",
    "# State Bank of India\n",
    "SBIN = yf.download(tickers='SBIN.NS', start=start, end=end)\n",
    "# Kotak Mahindra Bank\n",
    "KOTAKBANK = yf.download(tickers='KOTAKBANK.NS', start=start, end=end)\n",
    "# Reliance Industries\n",
    "RELIANCE = yf.download(tickers='RELIANCE.NS', start=start, end=end)\n",
    "# Tata Consultancy Services (TCS)\n",
    "TCS = yf.download(tickers='TCS.NS', start=start, end=end)\n",
    "# Infosys\n",
    "INFY = yf.download(tickers='INFY.NS', start=start, end=end)\n",
    "\n",
    "end_time = time.time()\n",
    "execution_time = end_time - start_time\n",
    "print(\"Execution Time:\", execution_time, \"seconds\")"
   ]
  },
  {
   "cell_type": "code",
   "execution_count": null,
   "id": "37613032-dc5e-4080-8f8c-9d13d962be00",
   "metadata": {},
   "outputs": [],
   "source": []
  },
  {
   "cell_type": "code",
   "execution_count": 41,
   "id": "927325c6-92d4-4ea5-b1a4-1603bc357d4e",
   "metadata": {},
   "outputs": [
    {
     "data": {
      "text/html": [
       "<div>\n",
       "<style scoped>\n",
       "    .dataframe tbody tr th:only-of-type {\n",
       "        vertical-align: middle;\n",
       "    }\n",
       "\n",
       "    .dataframe tbody tr th {\n",
       "        vertical-align: top;\n",
       "    }\n",
       "\n",
       "    .dataframe thead th {\n",
       "        text-align: right;\n",
       "    }\n",
       "</style>\n",
       "<table border=\"1\" class=\"dataframe\">\n",
       "  <thead>\n",
       "    <tr style=\"text-align: right;\">\n",
       "      <th></th>\n",
       "      <th>Open</th>\n",
       "      <th>High</th>\n",
       "      <th>Low</th>\n",
       "      <th>Close</th>\n",
       "      <th>Adj Close</th>\n",
       "      <th>Volume</th>\n",
       "    </tr>\n",
       "    <tr>\n",
       "      <th>Date</th>\n",
       "      <th></th>\n",
       "      <th></th>\n",
       "      <th></th>\n",
       "      <th></th>\n",
       "      <th></th>\n",
       "      <th></th>\n",
       "    </tr>\n",
       "  </thead>\n",
       "  <tbody>\n",
       "    <tr>\n",
       "      <th>2006-01-03</th>\n",
       "      <td>57.169998</td>\n",
       "      <td>58.490002</td>\n",
       "      <td>56.740002</td>\n",
       "      <td>58.310001</td>\n",
       "      <td>32.955105</td>\n",
       "      <td>5377000</td>\n",
       "    </tr>\n",
       "    <tr>\n",
       "      <th>2006-01-04</th>\n",
       "      <td>58.700001</td>\n",
       "      <td>59.279999</td>\n",
       "      <td>58.349998</td>\n",
       "      <td>58.349998</td>\n",
       "      <td>32.977715</td>\n",
       "      <td>7977800</td>\n",
       "    </tr>\n",
       "    <tr>\n",
       "      <th>2006-01-05</th>\n",
       "      <td>58.549999</td>\n",
       "      <td>58.590000</td>\n",
       "      <td>58.020000</td>\n",
       "      <td>58.509998</td>\n",
       "      <td>33.068130</td>\n",
       "      <td>5778000</td>\n",
       "    </tr>\n",
       "    <tr>\n",
       "      <th>2006-01-06</th>\n",
       "      <td>58.770000</td>\n",
       "      <td>58.849998</td>\n",
       "      <td>58.049999</td>\n",
       "      <td>58.570000</td>\n",
       "      <td>33.102051</td>\n",
       "      <td>6889800</td>\n",
       "    </tr>\n",
       "    <tr>\n",
       "      <th>2006-01-09</th>\n",
       "      <td>58.630001</td>\n",
       "      <td>59.290001</td>\n",
       "      <td>58.619999</td>\n",
       "      <td>59.189999</td>\n",
       "      <td>33.452454</td>\n",
       "      <td>4144500</td>\n",
       "    </tr>\n",
       "    <tr>\n",
       "      <th>...</th>\n",
       "      <td>...</td>\n",
       "      <td>...</td>\n",
       "      <td>...</td>\n",
       "      <td>...</td>\n",
       "      <td>...</td>\n",
       "      <td>...</td>\n",
       "    </tr>\n",
       "    <tr>\n",
       "      <th>2023-12-22</th>\n",
       "      <td>92.900002</td>\n",
       "      <td>93.660004</td>\n",
       "      <td>92.230003</td>\n",
       "      <td>92.410004</td>\n",
       "      <td>90.675598</td>\n",
       "      <td>5800800</td>\n",
       "    </tr>\n",
       "    <tr>\n",
       "      <th>2023-12-26</th>\n",
       "      <td>92.610001</td>\n",
       "      <td>93.019997</td>\n",
       "      <td>92.370003</td>\n",
       "      <td>92.839996</td>\n",
       "      <td>91.097519</td>\n",
       "      <td>2726200</td>\n",
       "    </tr>\n",
       "    <tr>\n",
       "      <th>2023-12-27</th>\n",
       "      <td>92.690002</td>\n",
       "      <td>93.690002</td>\n",
       "      <td>92.400002</td>\n",
       "      <td>93.660004</td>\n",
       "      <td>91.902130</td>\n",
       "      <td>4073200</td>\n",
       "    </tr>\n",
       "    <tr>\n",
       "      <th>2023-12-28</th>\n",
       "      <td>93.309998</td>\n",
       "      <td>93.949997</td>\n",
       "      <td>93.239998</td>\n",
       "      <td>93.639999</td>\n",
       "      <td>91.882507</td>\n",
       "      <td>4089500</td>\n",
       "    </tr>\n",
       "    <tr>\n",
       "      <th>2023-12-29</th>\n",
       "      <td>93.489998</td>\n",
       "      <td>93.769997</td>\n",
       "      <td>93.059998</td>\n",
       "      <td>93.250000</td>\n",
       "      <td>91.499817</td>\n",
       "      <td>4772100</td>\n",
       "    </tr>\n",
       "  </tbody>\n",
       "</table>\n",
       "<p>4529 rows × 6 columns</p>\n",
       "</div>"
      ],
      "text/plain": [
       "                 Open       High        Low      Close  Adj Close   Volume\n",
       "Date                                                                      \n",
       "2006-01-03  57.169998  58.490002  56.740002  58.310001  32.955105  5377000\n",
       "2006-01-04  58.700001  59.279999  58.349998  58.349998  32.977715  7977800\n",
       "2006-01-05  58.549999  58.590000  58.020000  58.509998  33.068130  5778000\n",
       "2006-01-06  58.770000  58.849998  58.049999  58.570000  33.102051  6889800\n",
       "2006-01-09  58.630001  59.290001  58.619999  59.189999  33.452454  4144500\n",
       "...               ...        ...        ...        ...        ...      ...\n",
       "2023-12-22  92.900002  93.660004  92.230003  92.410004  90.675598  5800800\n",
       "2023-12-26  92.610001  93.019997  92.370003  92.839996  91.097519  2726200\n",
       "2023-12-27  92.690002  93.690002  92.400002  93.660004  91.902130  4073200\n",
       "2023-12-28  93.309998  93.949997  93.239998  93.639999  91.882507  4089500\n",
       "2023-12-29  93.489998  93.769997  93.059998  93.250000  91.499817  4772100\n",
       "\n",
       "[4529 rows x 6 columns]"
      ]
     },
     "execution_count": 41,
     "metadata": {},
     "output_type": "execute_result"
    }
   ],
   "source": [
    "MS"
   ]
  },
  {
   "cell_type": "markdown",
   "id": "d5e634ac-7436-4c6b-845d-447f3d3f260f",
   "metadata": {},
   "source": [
    "** Create a list of the ticker symbols (as strings) in alphabetical order. Call this list: tickers**"
   ]
  },
  {
   "cell_type": "code",
   "execution_count": null,
   "id": "cc23086a-b67a-443e-9a96-9a8e53994e95",
   "metadata": {},
   "outputs": [],
   "source": []
  },
  {
   "cell_type": "code",
   "execution_count": null,
   "id": "76db93e0-43e6-4d43-b2d7-4b5f16308c2d",
   "metadata": {},
   "outputs": [],
   "source": []
  },
  {
   "cell_type": "markdown",
   "id": "406607fd-b407-41cc-83a8-214a986f808f",
   "metadata": {},
   "source": [
    "** Use pd.concat to concatenate the bank dataframes together to a single data frame called bank_stocks. Set the keys argument equal to the tickers list. Also pay attention to what axis you concatenate on.**"
   ]
  },
  {
   "cell_type": "code",
   "execution_count": null,
   "id": "0fc33499-f2d8-4c84-af7e-834d7f004f06",
   "metadata": {},
   "outputs": [],
   "source": []
  },
  {
   "cell_type": "markdown",
   "id": "54ecd53e-c0c7-481d-92c9-31d9558da7c1",
   "metadata": {},
   "source": [
    "** Set the column name levels (this is filled out for you):**"
   ]
  },
  {
   "cell_type": "code",
   "execution_count": null,
   "id": "8c8ae328-3c6d-46b0-83c8-d904fd033cbd",
   "metadata": {},
   "outputs": [],
   "source": [
    "bank_stocks.columns.names = ['Bank Ticker','Stock Info']"
   ]
  },
  {
   "cell_type": "code",
   "execution_count": null,
   "id": "efc00caf-68f6-4c81-811a-d36d3531ee52",
   "metadata": {},
   "outputs": [],
   "source": []
  },
  {
   "cell_type": "code",
   "execution_count": null,
   "id": "3cb9d059-1272-49b4-8b4b-68eb5044e896",
   "metadata": {},
   "outputs": [],
   "source": []
  },
  {
   "cell_type": "code",
   "execution_count": null,
   "id": "cd52204f-e518-44ff-a75d-dba28f2a1ba0",
   "metadata": {},
   "outputs": [],
   "source": []
  },
  {
   "cell_type": "markdown",
   "id": "157ac65f-1f75-4566-b500-00171d33cfdb",
   "metadata": {},
   "source": [
    "** Check the head of the bank_stocks dataframe.**"
   ]
  },
  {
   "cell_type": "code",
   "execution_count": null,
   "id": "bf449cf5-34ba-4cc1-8e42-6bfea1d34855",
   "metadata": {},
   "outputs": [],
   "source": []
  },
  {
   "cell_type": "code",
   "execution_count": null,
   "id": "32ec7d9c-6041-4f94-ae38-f623a9efed96",
   "metadata": {},
   "outputs": [],
   "source": []
  },
  {
   "cell_type": "code",
   "execution_count": null,
   "id": "303c1af7-877e-44ef-b438-efa5543c757f",
   "metadata": {},
   "outputs": [],
   "source": []
  },
  {
   "cell_type": "markdown",
   "id": "d70120d6-97bd-40d8-a681-3bc055bde84a",
   "metadata": {},
   "source": [
    "# EDA\n",
    "\n",
    "Let's explore the data a bit! Before continuing, I encourage you to check out the documentation on [Multi-Level Indexing](http://pandas.pydata.org/pandas-docs/stable/advanced.html) and [Using .xs](http://pandas.pydata.org/pandas-docs/stable/generated/pandas.DataFrame.xs.html).\n",
    "Reference the solutions if you can not figure out how to use .xs(), since that will be a major part of this project.\n",
    "\n",
    "** What is the max Close price for each bank's stock throughout the time period?**"
   ]
  },
  {
   "cell_type": "code",
   "execution_count": null,
   "id": "c046d311-9783-4cce-8bc0-bfb9ab978c25",
   "metadata": {},
   "outputs": [],
   "source": []
  },
  {
   "cell_type": "code",
   "execution_count": null,
   "id": "2f706606-4a41-4c79-8d52-daf9cd0031ee",
   "metadata": {},
   "outputs": [],
   "source": []
  },
  {
   "cell_type": "code",
   "execution_count": null,
   "id": "e8310136-63cc-494d-918a-fc6ecabde001",
   "metadata": {},
   "outputs": [],
   "source": []
  },
  {
   "cell_type": "markdown",
   "id": "01ad964a-5efa-4c8d-b789-fa3990b5c85c",
   "metadata": {},
   "source": [
    "** Create a new empty DataFrame called returns. This dataframe will contain the returns for each bank's stock. returns are typically defined by:**\n",
    "\n",
    "$$r_t = \\frac{p_t - p_{t-1}}{p_{t-1}} = \\frac{p_t}{p_{t-1}} - 1$$"
   ]
  },
  {
   "cell_type": "code",
   "execution_count": null,
   "id": "9f35d50a-a952-4316-ad5d-b0dc09c77e0e",
   "metadata": {},
   "outputs": [],
   "source": []
  },
  {
   "cell_type": "code",
   "execution_count": null,
   "id": "b96ce618-bc82-4868-aeee-45bfe47eb19e",
   "metadata": {},
   "outputs": [],
   "source": []
  },
  {
   "cell_type": "code",
   "execution_count": null,
   "id": "b166b35f-e986-4522-82e4-d9fd00f5f1af",
   "metadata": {},
   "outputs": [],
   "source": []
  },
  {
   "cell_type": "markdown",
   "id": "cdb4fbc0-36c4-4e60-823d-b69eb792f53f",
   "metadata": {},
   "source": [
    "** We can use pandas pct_change() method on the Close column to create a column representing this return value. Create a for loop that goes and for each Bank Stock Ticker creates this returns column and set's it as a column in the returns DataFrame.**"
   ]
  },
  {
   "cell_type": "code",
   "execution_count": null,
   "id": "1886b448-e8b2-4a65-b127-6e24e118abeb",
   "metadata": {},
   "outputs": [],
   "source": []
  },
  {
   "cell_type": "code",
   "execution_count": null,
   "id": "a0157b88-73ab-4f05-8c6f-2f89adf8f994",
   "metadata": {},
   "outputs": [],
   "source": []
  },
  {
   "cell_type": "code",
   "execution_count": null,
   "id": "5faa3743-a9f3-4807-bf68-f812f8d8e727",
   "metadata": {},
   "outputs": [],
   "source": []
  },
  {
   "cell_type": "markdown",
   "id": "f81e20e4-6f1a-4f08-b2d5-a14632436653",
   "metadata": {},
   "source": [
    "** Create a pairplot using seaborn of the returns dataframe. What stock stands out to you? Can you figure out why?**"
   ]
  },
  {
   "cell_type": "code",
   "execution_count": null,
   "id": "437e1611-ab38-4a4e-ab08-c7fd6a411db6",
   "metadata": {},
   "outputs": [],
   "source": []
  }
 ],
 "metadata": {
  "kernelspec": {
   "display_name": "Python 3 (ipykernel)",
   "language": "python",
   "name": "python3"
  },
  "language_info": {
   "codemirror_mode": {
    "name": "ipython",
    "version": 3
   },
   "file_extension": ".py",
   "mimetype": "text/x-python",
   "name": "python",
   "nbconvert_exporter": "python",
   "pygments_lexer": "ipython3",
   "version": "3.11.7"
  }
 },
 "nbformat": 4,
 "nbformat_minor": 5
}
